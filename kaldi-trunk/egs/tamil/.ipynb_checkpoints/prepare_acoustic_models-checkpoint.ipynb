{
 "cells": [
  {
   "cell_type": "code",
   "execution_count": 2,
   "metadata": {
    "collapsed": false
   },
   "outputs": [
    {
     "name": "stdout",
     "output_type": "stream",
     "text": [
      "*********prepare utt2spk*******\n",
      "*********prepare spk2utt*******\n",
      "*********prepare text*******\n",
      "*********prepare wav.scp*******\n"
     ]
    }
   ],
   "source": [
    "import numpy as np\n",
    "from collections import defaultdict\n",
    "root_path = \"/home/rb/Documents/ICT/speech_recognition/kaldi-trunk/egs/tamil/\"\n",
    "data_train = root_path + \"data/train/\"\n",
    "\n",
    "#Read data for acoustic model \n",
    "acoustic_model_train = np.genfromtxt(\"acoustic_model_train.txt\", dtype= str ,delimiter=\",\")\n",
    "\n",
    "print \"*********prepare utt2spk*******\"\n",
    "utt2spk = acoustic_model_train[:,[0,1]]\n",
    "utt2spk.sort(axis=0)\n",
    "np.savetxt(data_train+\"utt2spk\", utt2spk, fmt='%s',delimiter=\" \")\n",
    "\n",
    "print \"*********prepare spk2utt*******\"\n",
    "spk2utt_list_map = defaultdict(list)\n",
    "for row in acoustic_model_train[:,[1,0]]:\n",
    "    spk2utt_list_map[row[0]].append(row[1])\n",
    "for spk in spk2utt_list_map:\n",
    "    (spk2utt_list_map[spk]).sort()\n",
    "spk2utt_tuples = sorted(spk2utt_list_map.items())\n",
    "spk2utt = np.empty(shape=(len(spk2utt_tuples), 2),dtype=\"S256\")\n",
    "for i in range(0,len(spk2utt_tuples)):\n",
    "    spk2utt[i][0] = spk2utt_tuples[i][0]\n",
    "    spk2utt[i][1] = \" \".join(spk2utt_tuples[i][1])\n",
    "np.savetxt(data_train+\"spk2utt\", spk2utt, fmt='%s',delimiter=\" \")\n",
    "\n",
    "print \"*********prepare text*******\"\n",
    "text = acoustic_model_train[:,[0,2]]\n",
    "text.sort(axis=0)\n",
    "np.savetxt(data_train+\"text\", text, fmt='%s',delimiter=\" \")\n",
    "\n",
    "print \"*********prepare wav.scp*******\"\n",
    "wav = acoustic_model_train[:,[0,3]]\n",
    "wav.sort(axis=0)\n",
    "np.savetxt(data_train+\"wav.scp\", wav, fmt='%s',delimiter=\" \")"
   ]
  },
  {
   "cell_type": "code",
   "execution_count": 3,
   "metadata": {
    "collapsed": false
   },
   "outputs": [
    {
     "name": "stdout",
     "output_type": "stream",
     "text": [
      "*********prepare utt2spk*******\n",
      "*********prepare spk2utt*******\n",
      "*********prepare text*******\n",
      "*********prepare wav.scp*******\n"
     ]
    }
   ],
   "source": [
    "data_test = root_path + \"data/test/\"\n",
    "\n",
    "#Read data for acoustic model \n",
    "acoustic_model_test = np.genfromtxt(\"acoustic_model_test.txt\", dtype= str ,delimiter=\",\")\n",
    "\n",
    "print \"*********prepare utt2spk*******\"\n",
    "utt2spk = acoustic_model_test[:,[0,1]]\n",
    "utt2spk.sort(axis=0)\n",
    "np.savetxt(data_test+\"utt2spk\", utt2spk, fmt='%s',delimiter=\" \")\n",
    "\n",
    "print \"*********prepare spk2utt*******\"\n",
    "spk2utt_list_map = defaultdict(list)\n",
    "for row in acoustic_model_test[:,[1,0]]:\n",
    "    spk2utt_list_map[row[0]].append(row[1])\n",
    "for spk in spk2utt_list_map:\n",
    "    (spk2utt_list_map[spk]).sort()\n",
    "spk2utt_tuples = sorted(spk2utt_list_map.items())\n",
    "spk2utt = np.empty(shape=(len(spk2utt_tuples), 2),dtype=\"S256\")\n",
    "for i in range(0,len(spk2utt_tuples)):\n",
    "    spk2utt[i][0] = spk2utt_tuples[i][0]\n",
    "    spk2utt[i][1] = \" \".join(spk2utt_tuples[i][1])\n",
    "np.savetxt(data_test+\"spk2utt\", spk2utt, fmt='%s',delimiter=\" \")\n",
    "\n",
    "print \"*********prepare text*******\"\n",
    "text = acoustic_model_test[:,[0,2]]\n",
    "text.sort(axis=0)\n",
    "np.savetxt(data_test+\"text\", text, fmt='%s',delimiter=\" \")\n",
    "\n",
    "print \"*********prepare wav.scp*******\"\n",
    "wav = acoustic_model_test[:,[0,3]]\n",
    "wav.sort(axis=0)\n",
    "np.savetxt(data_test+\"wav.scp\", wav, fmt='%s',delimiter=\" \")"
   ]
  },
  {
   "cell_type": "code",
   "execution_count": null,
   "metadata": {
    "collapsed": true
   },
   "outputs": [],
   "source": []
  }
 ],
 "metadata": {
  "anaconda-cloud": {},
  "kernelspec": {
   "display_name": "Python [default]",
   "language": "python",
   "name": "python2"
  },
  "language_info": {
   "codemirror_mode": {
    "name": "ipython",
    "version": 2
   },
   "file_extension": ".py",
   "mimetype": "text/x-python",
   "name": "python",
   "nbconvert_exporter": "python",
   "pygments_lexer": "ipython2",
   "version": "2.7.12"
  }
 },
 "nbformat": 4,
 "nbformat_minor": 1
}
