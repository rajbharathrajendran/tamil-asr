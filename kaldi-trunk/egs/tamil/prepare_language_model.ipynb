{
 "cells": [
  {
   "cell_type": "code",
   "execution_count": 3,
   "metadata": {
    "collapsed": false
   },
   "outputs": [
    {
     "name": "stdout",
     "output_type": "stream",
     "text": [
      "*********prepare silence_phones.txt*******\n",
      "*********prepare nonsilence_phones.txt*******\n",
      "*********prepare optional_silence.txt*******\n",
      "*********prepare extra_questions.txt*******\n"
     ]
    }
   ],
   "source": [
    "import numpy as np\n",
    "from collections import defaultdict\n",
    "from sets import Set\n",
    "root_path = \"/home/rb/Documents/ICT/speech_recognition/kaldi-trunk/egs/tamil/\"\n",
    "\n",
    "dict_folder = root_path + \"data/local/dict/\"\n",
    "\n",
    "print \"*********prepare silence_phones.txt*******\"\n",
    "silence_phones = [\"SIL\",\"SPN\"]\n",
    "np.savetxt(dict_folder+\"silence_phones.txt\", silence_phones, fmt='%s',delimiter=\" \")\n",
    "#silence_phones = Set([\"SIL\",\"SPN\"])\n",
    "\n",
    "print \"*********prepare nonsilence_phones.txt*******\"\n",
    "lexicon_fname = dict_folder+\"lexicon.txt\"\n",
    "phones = Set([])\n",
    "with open(lexicon_fname) as f:\n",
    "    content = f.readlines()\n",
    "    for line in content:\n",
    "        for elem in line.split():\n",
    "            phones.add(elem)\n",
    "\n",
    "corpus = dict_folder+\"corpus\"\n",
    "words = Set([])\n",
    "with open(corpus) as f:\n",
    "    content = f.readlines()\n",
    "    for line in content:\n",
    "        for elem in line.split():\n",
    "            words.add(elem)\n",
    "    \n",
    "phones.difference_update(words)\n",
    "phones.difference_update(silence_phones)\n",
    "np.savetxt(dict_folder+\"nonsilence_phones.txt\", np.array(sorted(phones)), fmt='%s',delimiter=\" \")\n",
    "\n",
    "print \"*********prepare optional_silence.txt*******\"\n",
    "optional_silence = [\"SIL\"]\n",
    "np.savetxt(dict_folder+\"optional_silence.txt\",optional_silence, fmt='%s',delimiter=\" \")\n",
    "\n",
    "print \"*********prepare extra_questions.txt*******\"\n",
    "extra_questions = []\n",
    "np.savetxt(dict_folder+\"extra_questions.txt\",extra_questions, fmt='%s',delimiter=\" \")"
   ]
  },
  {
   "cell_type": "code",
   "execution_count": 4,
   "metadata": {
    "collapsed": false
   },
   "outputs": [
    {
     "ename": "ImportError",
     "evalue": "No module named txt2ipa.ipaconvert",
     "output_type": "error",
     "traceback": [
      "\u001b[0;31m---------------------------------------------------------------------------\u001b[0m",
      "\u001b[0;31mImportError\u001b[0m                               Traceback (most recent call last)",
      "\u001b[0;32m<ipython-input-4-0a78e352b597>\u001b[0m in \u001b[0;36m<module>\u001b[0;34m()\u001b[0m\n\u001b[0;32m----> 1\u001b[0;31m \u001b[0;32mfrom\u001b[0m \u001b[0mtxt2ipa\u001b[0m\u001b[0;34m.\u001b[0m\u001b[0mipaconvert\u001b[0m \u001b[0;32mimport\u001b[0m \u001b[0mipa\u001b[0m\u001b[0;34m,\u001b[0m \u001b[0mbroad\u001b[0m\u001b[0;34m\u001b[0m\u001b[0m\n\u001b[0m\u001b[1;32m      2\u001b[0m \u001b[0;32mfrom\u001b[0m \u001b[0mtxt2ipa\u001b[0m\u001b[0;34m.\u001b[0m\u001b[0mtransliteration\u001b[0m \u001b[0;32mimport\u001b[0m \u001b[0mtam2lat\u001b[0m\u001b[0;34m\u001b[0m\u001b[0m\n\u001b[1;32m      3\u001b[0m \u001b[0;34m\u001b[0m\u001b[0m\n\u001b[1;32m      4\u001b[0m \u001b[0mtext\u001b[0m \u001b[0;34m=\u001b[0m \u001b[0;34m'வணக்கம் தமிழகம் '\u001b[0m\u001b[0;34m\u001b[0m\u001b[0m\n\u001b[1;32m      5\u001b[0m \u001b[0;34m\u001b[0m\u001b[0m\n",
      "\u001b[0;31mImportError\u001b[0m: No module named txt2ipa.ipaconvert"
     ]
    }
   ],
   "source": [
    "from txt2ipa.ipaconvert import ipa, broad\n",
    "from txt2ipa.transliteration import tam2lat\n",
    "\n",
    "text = 'வணக்கம் தமிழகம் '\n",
    "\n",
    "t1 = tam2lat(text)\n",
    "t2 = \" \" + t1 + \" \"\n",
    "t2 = ipa(t2)\n",
    "t3 = broad(t2)\n",
    "print \"after tam2lat\", t1\n",
    "print \"after ipa\", t2\n",
    "print \"after broad\", t3"
   ]
  },
  {
   "cell_type": "code",
   "execution_count": null,
   "metadata": {
    "collapsed": true
   },
   "outputs": [],
   "source": []
  }
 ],
 "metadata": {
  "anaconda-cloud": {},
  "kernelspec": {
   "display_name": "Python [default]",
   "language": "python",
   "name": "python2"
  },
  "language_info": {
   "codemirror_mode": {
    "name": "ipython",
    "version": 2
   },
   "file_extension": ".py",
   "mimetype": "text/x-python",
   "name": "python",
   "nbconvert_exporter": "python",
   "pygments_lexer": "ipython2",
   "version": "2.7.12"
  }
 },
 "nbformat": 4,
 "nbformat_minor": 1
}
