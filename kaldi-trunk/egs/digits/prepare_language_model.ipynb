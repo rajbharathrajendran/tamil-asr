{
 "cells": [
  {
   "cell_type": "code",
   "execution_count": 35,
   "metadata": {
    "collapsed": false
   },
   "outputs": [
    {
     "name": "stdout",
     "output_type": "stream",
     "text": [
      "*********prepare silence_phones.txt*******\n",
      "*********prepare nonsilence_phones.txt*******\n",
      "*********prepare optional_silence.txt*******\n",
      "*********prepare extra_questions.txt*******\n"
     ]
    }
   ],
   "source": [
    "import numpy as np\n",
    "from collections import defaultdict\n",
    "from sets import Set\n",
    "root_path = \"/home/rb/Documents/ICT/speech_recognition/kaldi-trunk/egs/tamil/\"\n",
    "\n",
    "dict_folder = root_path + \"data/local/dict/\"\n",
    "\n",
    "print \"*********prepare silence_phones.txt*******\"\n",
    "silence_phones = [\"SIL\",\"SPN\"]\n",
    "np.savetxt(dict_folder+\"silence_phones.txt\", silence_phones, fmt='%s',delimiter=\" \")\n",
    "#silence_phones = Set([\"SIL\",\"SPN\"])\n",
    "\n",
    "print \"*********prepare nonsilence_phones.txt*******\"\n",
    "lexicon_fname = dict_folder+\"lexicon.txt\"\n",
    "phones = Set([])\n",
    "with open(lexicon_fname) as f:\n",
    "    content = f.readlines()\n",
    "    for line in content:\n",
    "        for elem in line.split():\n",
    "            phones.add(elem)\n",
    "\n",
    "corpus = dict_folder+\"corpus\"\n",
    "words = Set([])\n",
    "with open(corpus) as f:\n",
    "    content = f.readlines()\n",
    "    for line in content:\n",
    "        for elem in line.split():\n",
    "            words.add(elem)\n",
    "    \n",
    "phones.difference_update(words)\n",
    "phones.difference_update(silence_phones)\n",
    "np.savetxt(dict_folder+\"nonsilence_phones.txt\", np.array(sorted(phones)), fmt='%s',delimiter=\" \")\n",
    "\n",
    "print \"*********prepare optional_silence.txt*******\"\n",
    "optional_silence = [\"SIL\"]\n",
    "np.savetxt(dict_folder+\"optional_silence.txt\",optional_silence, fmt='%s',delimiter=\" \")\n",
    "\n",
    "print \"*********prepare extra_questions.txt*******\"\n",
    "extra_questions = []\n",
    "np.savetxt(dict_folder+\"extra_questions.txt\",extra_questions, fmt='%s',delimiter=\" \")"
   ]
  },
  {
   "cell_type": "code",
   "execution_count": null,
   "metadata": {
    "collapsed": false
   },
   "outputs": [],
   "source": []
  },
  {
   "cell_type": "code",
   "execution_count": null,
   "metadata": {
    "collapsed": true
   },
   "outputs": [],
   "source": []
  }
 ],
 "metadata": {
  "anaconda-cloud": {},
  "kernelspec": {
   "display_name": "Python [default]",
   "language": "python",
   "name": "python2"
  },
  "language_info": {
   "codemirror_mode": {
    "name": "ipython",
    "version": 2
   },
   "file_extension": ".py",
   "mimetype": "text/x-python",
   "name": "python",
   "nbconvert_exporter": "python",
   "pygments_lexer": "ipython2",
   "version": "2.7.12"
  }
 },
 "nbformat": 4,
 "nbformat_minor": 1
}
